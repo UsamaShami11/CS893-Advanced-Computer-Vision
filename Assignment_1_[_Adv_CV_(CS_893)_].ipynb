{
  "nbformat": 4,
  "nbformat_minor": 0,
  "metadata": {
    "colab": {
      "name": "Assignment 1 - [ Adv. CV (CS-893) ].ipynb",
      "provenance": [],
      "collapsed_sections": []
    },
    "kernelspec": {
      "name": "python3",
      "display_name": "Python 3"
    },
    "language_info": {
      "name": "python"
    },
    "widgets": {
      "application/vnd.jupyter.widget-state+json": {
        "563d1046170c4d2cb2670c16f78b83d8": {
          "model_module": "@jupyter-widgets/controls",
          "model_name": "HBoxModel",
          "model_module_version": "1.5.0",
          "state": {
            "_view_name": "HBoxView",
            "_dom_classes": [],
            "_model_name": "HBoxModel",
            "_view_module": "@jupyter-widgets/controls",
            "_model_module_version": "1.5.0",
            "_view_count": null,
            "_view_module_version": "1.5.0",
            "box_style": "",
            "layout": "IPY_MODEL_98f0a1f284a94a84af3d04414f644c87",
            "_model_module": "@jupyter-widgets/controls",
            "children": [
              "IPY_MODEL_a2c28a644a6e484e8fd09cf258cb24bf",
              "IPY_MODEL_002e78f88307427c9f1eeb0f5157e5a0",
              "IPY_MODEL_c0df726d69aa48d99205f980d5ec173f"
            ]
          }
        },
        "98f0a1f284a94a84af3d04414f644c87": {
          "model_module": "@jupyter-widgets/base",
          "model_name": "LayoutModel",
          "model_module_version": "1.2.0",
          "state": {
            "_view_name": "LayoutView",
            "grid_template_rows": null,
            "right": null,
            "justify_content": null,
            "_view_module": "@jupyter-widgets/base",
            "overflow": null,
            "_model_module_version": "1.2.0",
            "_view_count": null,
            "flex_flow": null,
            "width": null,
            "min_width": null,
            "border": null,
            "align_items": null,
            "bottom": null,
            "_model_module": "@jupyter-widgets/base",
            "top": null,
            "grid_column": null,
            "overflow_y": null,
            "overflow_x": null,
            "grid_auto_flow": null,
            "grid_area": null,
            "grid_template_columns": null,
            "flex": null,
            "_model_name": "LayoutModel",
            "justify_items": null,
            "grid_row": null,
            "max_height": null,
            "align_content": null,
            "visibility": null,
            "align_self": null,
            "height": null,
            "min_height": null,
            "padding": null,
            "grid_auto_rows": null,
            "grid_gap": null,
            "max_width": null,
            "order": null,
            "_view_module_version": "1.2.0",
            "grid_template_areas": null,
            "object_position": null,
            "object_fit": null,
            "grid_auto_columns": null,
            "margin": null,
            "display": null,
            "left": null
          }
        },
        "a2c28a644a6e484e8fd09cf258cb24bf": {
          "model_module": "@jupyter-widgets/controls",
          "model_name": "HTMLModel",
          "model_module_version": "1.5.0",
          "state": {
            "_view_name": "HTMLView",
            "style": "IPY_MODEL_2b0301ef8d5745008449ed5c981004ec",
            "_dom_classes": [],
            "description": "",
            "_model_name": "HTMLModel",
            "placeholder": "​",
            "_view_module": "@jupyter-widgets/controls",
            "_model_module_version": "1.5.0",
            "value": "100%",
            "_view_count": null,
            "_view_module_version": "1.5.0",
            "description_tooltip": null,
            "_model_module": "@jupyter-widgets/controls",
            "layout": "IPY_MODEL_1c69cf953e784051be67c028aab5fc96"
          }
        },
        "002e78f88307427c9f1eeb0f5157e5a0": {
          "model_module": "@jupyter-widgets/controls",
          "model_name": "FloatProgressModel",
          "model_module_version": "1.5.0",
          "state": {
            "_view_name": "ProgressView",
            "style": "IPY_MODEL_2fd75bd632f94ab495939e7673e2e0c3",
            "_dom_classes": [],
            "description": "",
            "_model_name": "FloatProgressModel",
            "bar_style": "success",
            "max": 10,
            "_view_module": "@jupyter-widgets/controls",
            "_model_module_version": "1.5.0",
            "value": 10,
            "_view_count": null,
            "_view_module_version": "1.5.0",
            "orientation": "horizontal",
            "min": 0,
            "description_tooltip": null,
            "_model_module": "@jupyter-widgets/controls",
            "layout": "IPY_MODEL_ff87afd31a7a480ebe1dfd1821bec33f"
          }
        },
        "c0df726d69aa48d99205f980d5ec173f": {
          "model_module": "@jupyter-widgets/controls",
          "model_name": "HTMLModel",
          "model_module_version": "1.5.0",
          "state": {
            "_view_name": "HTMLView",
            "style": "IPY_MODEL_5d1ab0aab06f452eb1ff404aae147393",
            "_dom_classes": [],
            "description": "",
            "_model_name": "HTMLModel",
            "placeholder": "​",
            "_view_module": "@jupyter-widgets/controls",
            "_model_module_version": "1.5.0",
            "value": " 10/10 [00:00&lt;00:00, 36.27it/s]",
            "_view_count": null,
            "_view_module_version": "1.5.0",
            "description_tooltip": null,
            "_model_module": "@jupyter-widgets/controls",
            "layout": "IPY_MODEL_12a2c2e07d134e38b6abda8f89e392a1"
          }
        },
        "2b0301ef8d5745008449ed5c981004ec": {
          "model_module": "@jupyter-widgets/controls",
          "model_name": "DescriptionStyleModel",
          "model_module_version": "1.5.0",
          "state": {
            "_view_name": "StyleView",
            "_model_name": "DescriptionStyleModel",
            "description_width": "",
            "_view_module": "@jupyter-widgets/base",
            "_model_module_version": "1.5.0",
            "_view_count": null,
            "_view_module_version": "1.2.0",
            "_model_module": "@jupyter-widgets/controls"
          }
        },
        "1c69cf953e784051be67c028aab5fc96": {
          "model_module": "@jupyter-widgets/base",
          "model_name": "LayoutModel",
          "model_module_version": "1.2.0",
          "state": {
            "_view_name": "LayoutView",
            "grid_template_rows": null,
            "right": null,
            "justify_content": null,
            "_view_module": "@jupyter-widgets/base",
            "overflow": null,
            "_model_module_version": "1.2.0",
            "_view_count": null,
            "flex_flow": null,
            "width": null,
            "min_width": null,
            "border": null,
            "align_items": null,
            "bottom": null,
            "_model_module": "@jupyter-widgets/base",
            "top": null,
            "grid_column": null,
            "overflow_y": null,
            "overflow_x": null,
            "grid_auto_flow": null,
            "grid_area": null,
            "grid_template_columns": null,
            "flex": null,
            "_model_name": "LayoutModel",
            "justify_items": null,
            "grid_row": null,
            "max_height": null,
            "align_content": null,
            "visibility": null,
            "align_self": null,
            "height": null,
            "min_height": null,
            "padding": null,
            "grid_auto_rows": null,
            "grid_gap": null,
            "max_width": null,
            "order": null,
            "_view_module_version": "1.2.0",
            "grid_template_areas": null,
            "object_position": null,
            "object_fit": null,
            "grid_auto_columns": null,
            "margin": null,
            "display": null,
            "left": null
          }
        },
        "2fd75bd632f94ab495939e7673e2e0c3": {
          "model_module": "@jupyter-widgets/controls",
          "model_name": "ProgressStyleModel",
          "model_module_version": "1.5.0",
          "state": {
            "_view_name": "StyleView",
            "_model_name": "ProgressStyleModel",
            "description_width": "",
            "_view_module": "@jupyter-widgets/base",
            "_model_module_version": "1.5.0",
            "_view_count": null,
            "_view_module_version": "1.2.0",
            "bar_color": null,
            "_model_module": "@jupyter-widgets/controls"
          }
        },
        "ff87afd31a7a480ebe1dfd1821bec33f": {
          "model_module": "@jupyter-widgets/base",
          "model_name": "LayoutModel",
          "model_module_version": "1.2.0",
          "state": {
            "_view_name": "LayoutView",
            "grid_template_rows": null,
            "right": null,
            "justify_content": null,
            "_view_module": "@jupyter-widgets/base",
            "overflow": null,
            "_model_module_version": "1.2.0",
            "_view_count": null,
            "flex_flow": null,
            "width": null,
            "min_width": null,
            "border": null,
            "align_items": null,
            "bottom": null,
            "_model_module": "@jupyter-widgets/base",
            "top": null,
            "grid_column": null,
            "overflow_y": null,
            "overflow_x": null,
            "grid_auto_flow": null,
            "grid_area": null,
            "grid_template_columns": null,
            "flex": null,
            "_model_name": "LayoutModel",
            "justify_items": null,
            "grid_row": null,
            "max_height": null,
            "align_content": null,
            "visibility": null,
            "align_self": null,
            "height": null,
            "min_height": null,
            "padding": null,
            "grid_auto_rows": null,
            "grid_gap": null,
            "max_width": null,
            "order": null,
            "_view_module_version": "1.2.0",
            "grid_template_areas": null,
            "object_position": null,
            "object_fit": null,
            "grid_auto_columns": null,
            "margin": null,
            "display": null,
            "left": null
          }
        },
        "5d1ab0aab06f452eb1ff404aae147393": {
          "model_module": "@jupyter-widgets/controls",
          "model_name": "DescriptionStyleModel",
          "model_module_version": "1.5.0",
          "state": {
            "_view_name": "StyleView",
            "_model_name": "DescriptionStyleModel",
            "description_width": "",
            "_view_module": "@jupyter-widgets/base",
            "_model_module_version": "1.5.0",
            "_view_count": null,
            "_view_module_version": "1.2.0",
            "_model_module": "@jupyter-widgets/controls"
          }
        },
        "12a2c2e07d134e38b6abda8f89e392a1": {
          "model_module": "@jupyter-widgets/base",
          "model_name": "LayoutModel",
          "model_module_version": "1.2.0",
          "state": {
            "_view_name": "LayoutView",
            "grid_template_rows": null,
            "right": null,
            "justify_content": null,
            "_view_module": "@jupyter-widgets/base",
            "overflow": null,
            "_model_module_version": "1.2.0",
            "_view_count": null,
            "flex_flow": null,
            "width": null,
            "min_width": null,
            "border": null,
            "align_items": null,
            "bottom": null,
            "_model_module": "@jupyter-widgets/base",
            "top": null,
            "grid_column": null,
            "overflow_y": null,
            "overflow_x": null,
            "grid_auto_flow": null,
            "grid_area": null,
            "grid_template_columns": null,
            "flex": null,
            "_model_name": "LayoutModel",
            "justify_items": null,
            "grid_row": null,
            "max_height": null,
            "align_content": null,
            "visibility": null,
            "align_self": null,
            "height": null,
            "min_height": null,
            "padding": null,
            "grid_auto_rows": null,
            "grid_gap": null,
            "max_width": null,
            "order": null,
            "_view_module_version": "1.2.0",
            "grid_template_areas": null,
            "object_position": null,
            "object_fit": null,
            "grid_auto_columns": null,
            "margin": null,
            "display": null,
            "left": null
          }
        },
        "9f6b759c976e47dea54e8be194d48ac6": {
          "model_module": "@jupyter-widgets/controls",
          "model_name": "HBoxModel",
          "model_module_version": "1.5.0",
          "state": {
            "_view_name": "HBoxView",
            "_dom_classes": [],
            "_model_name": "HBoxModel",
            "_view_module": "@jupyter-widgets/controls",
            "_model_module_version": "1.5.0",
            "_view_count": null,
            "_view_module_version": "1.5.0",
            "box_style": "",
            "layout": "IPY_MODEL_15bb46bee3f44901bc70354fae97ae16",
            "_model_module": "@jupyter-widgets/controls",
            "children": [
              "IPY_MODEL_a8a5ad07741e48cb8bfbc92c2bc76b88",
              "IPY_MODEL_109cb41bb80640938e77d5c82e90c0d9",
              "IPY_MODEL_6cda51fd43764b2c8a5d74dcf133f555"
            ]
          }
        },
        "15bb46bee3f44901bc70354fae97ae16": {
          "model_module": "@jupyter-widgets/base",
          "model_name": "LayoutModel",
          "model_module_version": "1.2.0",
          "state": {
            "_view_name": "LayoutView",
            "grid_template_rows": null,
            "right": null,
            "justify_content": null,
            "_view_module": "@jupyter-widgets/base",
            "overflow": null,
            "_model_module_version": "1.2.0",
            "_view_count": null,
            "flex_flow": null,
            "width": null,
            "min_width": null,
            "border": null,
            "align_items": null,
            "bottom": null,
            "_model_module": "@jupyter-widgets/base",
            "top": null,
            "grid_column": null,
            "overflow_y": null,
            "overflow_x": null,
            "grid_auto_flow": null,
            "grid_area": null,
            "grid_template_columns": null,
            "flex": null,
            "_model_name": "LayoutModel",
            "justify_items": null,
            "grid_row": null,
            "max_height": null,
            "align_content": null,
            "visibility": null,
            "align_self": null,
            "height": null,
            "min_height": null,
            "padding": null,
            "grid_auto_rows": null,
            "grid_gap": null,
            "max_width": null,
            "order": null,
            "_view_module_version": "1.2.0",
            "grid_template_areas": null,
            "object_position": null,
            "object_fit": null,
            "grid_auto_columns": null,
            "margin": null,
            "display": null,
            "left": null
          }
        },
        "a8a5ad07741e48cb8bfbc92c2bc76b88": {
          "model_module": "@jupyter-widgets/controls",
          "model_name": "HTMLModel",
          "model_module_version": "1.5.0",
          "state": {
            "_view_name": "HTMLView",
            "style": "IPY_MODEL_de0378e66f9a456a96dd72eef75ad923",
            "_dom_classes": [],
            "description": "",
            "_model_name": "HTMLModel",
            "placeholder": "​",
            "_view_module": "@jupyter-widgets/controls",
            "_model_module_version": "1.5.0",
            "value": "100%",
            "_view_count": null,
            "_view_module_version": "1.5.0",
            "description_tooltip": null,
            "_model_module": "@jupyter-widgets/controls",
            "layout": "IPY_MODEL_183bad26729e492dbfea47099e9ba28c"
          }
        },
        "109cb41bb80640938e77d5c82e90c0d9": {
          "model_module": "@jupyter-widgets/controls",
          "model_name": "FloatProgressModel",
          "model_module_version": "1.5.0",
          "state": {
            "_view_name": "ProgressView",
            "style": "IPY_MODEL_74f4645c2f544ebcbccd6c4c2124a422",
            "_dom_classes": [],
            "description": "",
            "_model_name": "FloatProgressModel",
            "bar_style": "success",
            "max": 10,
            "_view_module": "@jupyter-widgets/controls",
            "_model_module_version": "1.5.0",
            "value": 10,
            "_view_count": null,
            "_view_module_version": "1.5.0",
            "orientation": "horizontal",
            "min": 0,
            "description_tooltip": null,
            "_model_module": "@jupyter-widgets/controls",
            "layout": "IPY_MODEL_c26bbb4cd0dc43b9801731b5487c7fbc"
          }
        },
        "6cda51fd43764b2c8a5d74dcf133f555": {
          "model_module": "@jupyter-widgets/controls",
          "model_name": "HTMLModel",
          "model_module_version": "1.5.0",
          "state": {
            "_view_name": "HTMLView",
            "style": "IPY_MODEL_a8a731054062455b8dd26d96e97b6dfd",
            "_dom_classes": [],
            "description": "",
            "_model_name": "HTMLModel",
            "placeholder": "​",
            "_view_module": "@jupyter-widgets/controls",
            "_model_module_version": "1.5.0",
            "value": " 10/10 [00:00&lt;00:00, 101.54it/s]",
            "_view_count": null,
            "_view_module_version": "1.5.0",
            "description_tooltip": null,
            "_model_module": "@jupyter-widgets/controls",
            "layout": "IPY_MODEL_42ad2e30b7c74a99bedef68adee20f7d"
          }
        },
        "de0378e66f9a456a96dd72eef75ad923": {
          "model_module": "@jupyter-widgets/controls",
          "model_name": "DescriptionStyleModel",
          "model_module_version": "1.5.0",
          "state": {
            "_view_name": "StyleView",
            "_model_name": "DescriptionStyleModel",
            "description_width": "",
            "_view_module": "@jupyter-widgets/base",
            "_model_module_version": "1.5.0",
            "_view_count": null,
            "_view_module_version": "1.2.0",
            "_model_module": "@jupyter-widgets/controls"
          }
        },
        "183bad26729e492dbfea47099e9ba28c": {
          "model_module": "@jupyter-widgets/base",
          "model_name": "LayoutModel",
          "model_module_version": "1.2.0",
          "state": {
            "_view_name": "LayoutView",
            "grid_template_rows": null,
            "right": null,
            "justify_content": null,
            "_view_module": "@jupyter-widgets/base",
            "overflow": null,
            "_model_module_version": "1.2.0",
            "_view_count": null,
            "flex_flow": null,
            "width": null,
            "min_width": null,
            "border": null,
            "align_items": null,
            "bottom": null,
            "_model_module": "@jupyter-widgets/base",
            "top": null,
            "grid_column": null,
            "overflow_y": null,
            "overflow_x": null,
            "grid_auto_flow": null,
            "grid_area": null,
            "grid_template_columns": null,
            "flex": null,
            "_model_name": "LayoutModel",
            "justify_items": null,
            "grid_row": null,
            "max_height": null,
            "align_content": null,
            "visibility": null,
            "align_self": null,
            "height": null,
            "min_height": null,
            "padding": null,
            "grid_auto_rows": null,
            "grid_gap": null,
            "max_width": null,
            "order": null,
            "_view_module_version": "1.2.0",
            "grid_template_areas": null,
            "object_position": null,
            "object_fit": null,
            "grid_auto_columns": null,
            "margin": null,
            "display": null,
            "left": null
          }
        },
        "74f4645c2f544ebcbccd6c4c2124a422": {
          "model_module": "@jupyter-widgets/controls",
          "model_name": "ProgressStyleModel",
          "model_module_version": "1.5.0",
          "state": {
            "_view_name": "StyleView",
            "_model_name": "ProgressStyleModel",
            "description_width": "",
            "_view_module": "@jupyter-widgets/base",
            "_model_module_version": "1.5.0",
            "_view_count": null,
            "_view_module_version": "1.2.0",
            "bar_color": null,
            "_model_module": "@jupyter-widgets/controls"
          }
        },
        "c26bbb4cd0dc43b9801731b5487c7fbc": {
          "model_module": "@jupyter-widgets/base",
          "model_name": "LayoutModel",
          "model_module_version": "1.2.0",
          "state": {
            "_view_name": "LayoutView",
            "grid_template_rows": null,
            "right": null,
            "justify_content": null,
            "_view_module": "@jupyter-widgets/base",
            "overflow": null,
            "_model_module_version": "1.2.0",
            "_view_count": null,
            "flex_flow": null,
            "width": null,
            "min_width": null,
            "border": null,
            "align_items": null,
            "bottom": null,
            "_model_module": "@jupyter-widgets/base",
            "top": null,
            "grid_column": null,
            "overflow_y": null,
            "overflow_x": null,
            "grid_auto_flow": null,
            "grid_area": null,
            "grid_template_columns": null,
            "flex": null,
            "_model_name": "LayoutModel",
            "justify_items": null,
            "grid_row": null,
            "max_height": null,
            "align_content": null,
            "visibility": null,
            "align_self": null,
            "height": null,
            "min_height": null,
            "padding": null,
            "grid_auto_rows": null,
            "grid_gap": null,
            "max_width": null,
            "order": null,
            "_view_module_version": "1.2.0",
            "grid_template_areas": null,
            "object_position": null,
            "object_fit": null,
            "grid_auto_columns": null,
            "margin": null,
            "display": null,
            "left": null
          }
        },
        "a8a731054062455b8dd26d96e97b6dfd": {
          "model_module": "@jupyter-widgets/controls",
          "model_name": "DescriptionStyleModel",
          "model_module_version": "1.5.0",
          "state": {
            "_view_name": "StyleView",
            "_model_name": "DescriptionStyleModel",
            "description_width": "",
            "_view_module": "@jupyter-widgets/base",
            "_model_module_version": "1.5.0",
            "_view_count": null,
            "_view_module_version": "1.2.0",
            "_model_module": "@jupyter-widgets/controls"
          }
        },
        "42ad2e30b7c74a99bedef68adee20f7d": {
          "model_module": "@jupyter-widgets/base",
          "model_name": "LayoutModel",
          "model_module_version": "1.2.0",
          "state": {
            "_view_name": "LayoutView",
            "grid_template_rows": null,
            "right": null,
            "justify_content": null,
            "_view_module": "@jupyter-widgets/base",
            "overflow": null,
            "_model_module_version": "1.2.0",
            "_view_count": null,
            "flex_flow": null,
            "width": null,
            "min_width": null,
            "border": null,
            "align_items": null,
            "bottom": null,
            "_model_module": "@jupyter-widgets/base",
            "top": null,
            "grid_column": null,
            "overflow_y": null,
            "overflow_x": null,
            "grid_auto_flow": null,
            "grid_area": null,
            "grid_template_columns": null,
            "flex": null,
            "_model_name": "LayoutModel",
            "justify_items": null,
            "grid_row": null,
            "max_height": null,
            "align_content": null,
            "visibility": null,
            "align_self": null,
            "height": null,
            "min_height": null,
            "padding": null,
            "grid_auto_rows": null,
            "grid_gap": null,
            "max_width": null,
            "order": null,
            "_view_module_version": "1.2.0",
            "grid_template_areas": null,
            "object_position": null,
            "object_fit": null,
            "grid_auto_columns": null,
            "margin": null,
            "display": null,
            "left": null
          }
        },
        "af99eadc75084d618bdac426d9252dac": {
          "model_module": "@jupyter-widgets/controls",
          "model_name": "HBoxModel",
          "model_module_version": "1.5.0",
          "state": {
            "_view_name": "HBoxView",
            "_dom_classes": [],
            "_model_name": "HBoxModel",
            "_view_module": "@jupyter-widgets/controls",
            "_model_module_version": "1.5.0",
            "_view_count": null,
            "_view_module_version": "1.5.0",
            "box_style": "",
            "layout": "IPY_MODEL_ca9deb9b93e7491c88e4bcc875223662",
            "_model_module": "@jupyter-widgets/controls",
            "children": [
              "IPY_MODEL_1992e525c6154c54b1f826c7f88f50da",
              "IPY_MODEL_38852bcc2117421c9ce866fef305aef2",
              "IPY_MODEL_8c256476fd4447159c77353a0fdc5441"
            ]
          }
        },
        "ca9deb9b93e7491c88e4bcc875223662": {
          "model_module": "@jupyter-widgets/base",
          "model_name": "LayoutModel",
          "model_module_version": "1.2.0",
          "state": {
            "_view_name": "LayoutView",
            "grid_template_rows": null,
            "right": null,
            "justify_content": null,
            "_view_module": "@jupyter-widgets/base",
            "overflow": null,
            "_model_module_version": "1.2.0",
            "_view_count": null,
            "flex_flow": null,
            "width": null,
            "min_width": null,
            "border": null,
            "align_items": null,
            "bottom": null,
            "_model_module": "@jupyter-widgets/base",
            "top": null,
            "grid_column": null,
            "overflow_y": null,
            "overflow_x": null,
            "grid_auto_flow": null,
            "grid_area": null,
            "grid_template_columns": null,
            "flex": null,
            "_model_name": "LayoutModel",
            "justify_items": null,
            "grid_row": null,
            "max_height": null,
            "align_content": null,
            "visibility": null,
            "align_self": null,
            "height": null,
            "min_height": null,
            "padding": null,
            "grid_auto_rows": null,
            "grid_gap": null,
            "max_width": null,
            "order": null,
            "_view_module_version": "1.2.0",
            "grid_template_areas": null,
            "object_position": null,
            "object_fit": null,
            "grid_auto_columns": null,
            "margin": null,
            "display": null,
            "left": null
          }
        },
        "1992e525c6154c54b1f826c7f88f50da": {
          "model_module": "@jupyter-widgets/controls",
          "model_name": "HTMLModel",
          "model_module_version": "1.5.0",
          "state": {
            "_view_name": "HTMLView",
            "style": "IPY_MODEL_f539de2c74654df8879f8efe87dfb9df",
            "_dom_classes": [],
            "description": "",
            "_model_name": "HTMLModel",
            "placeholder": "​",
            "_view_module": "@jupyter-widgets/controls",
            "_model_module_version": "1.5.0",
            "value": "100%",
            "_view_count": null,
            "_view_module_version": "1.5.0",
            "description_tooltip": null,
            "_model_module": "@jupyter-widgets/controls",
            "layout": "IPY_MODEL_95229ee0655a4cbabfa3e1fe9ae68938"
          }
        },
        "38852bcc2117421c9ce866fef305aef2": {
          "model_module": "@jupyter-widgets/controls",
          "model_name": "FloatProgressModel",
          "model_module_version": "1.5.0",
          "state": {
            "_view_name": "ProgressView",
            "style": "IPY_MODEL_c7e36349ba5242f8bc5aff4148536af6",
            "_dom_classes": [],
            "description": "",
            "_model_name": "FloatProgressModel",
            "bar_style": "success",
            "max": 800,
            "_view_module": "@jupyter-widgets/controls",
            "_model_module_version": "1.5.0",
            "value": 800,
            "_view_count": null,
            "_view_module_version": "1.5.0",
            "orientation": "horizontal",
            "min": 0,
            "description_tooltip": null,
            "_model_module": "@jupyter-widgets/controls",
            "layout": "IPY_MODEL_8f93ae627a5245778a6f0ccbf992ed3b"
          }
        },
        "8c256476fd4447159c77353a0fdc5441": {
          "model_module": "@jupyter-widgets/controls",
          "model_name": "HTMLModel",
          "model_module_version": "1.5.0",
          "state": {
            "_view_name": "HTMLView",
            "style": "IPY_MODEL_db6a89d2579b43a5bd78a24138f8d8ce",
            "_dom_classes": [],
            "description": "",
            "_model_name": "HTMLModel",
            "placeholder": "​",
            "_view_module": "@jupyter-widgets/controls",
            "_model_module_version": "1.5.0",
            "value": " 800/800 [00:01&lt;00:00, 626.89it/s]",
            "_view_count": null,
            "_view_module_version": "1.5.0",
            "description_tooltip": null,
            "_model_module": "@jupyter-widgets/controls",
            "layout": "IPY_MODEL_196e3d0852cf47a79570b6b8a86a6b95"
          }
        },
        "f539de2c74654df8879f8efe87dfb9df": {
          "model_module": "@jupyter-widgets/controls",
          "model_name": "DescriptionStyleModel",
          "model_module_version": "1.5.0",
          "state": {
            "_view_name": "StyleView",
            "_model_name": "DescriptionStyleModel",
            "description_width": "",
            "_view_module": "@jupyter-widgets/base",
            "_model_module_version": "1.5.0",
            "_view_count": null,
            "_view_module_version": "1.2.0",
            "_model_module": "@jupyter-widgets/controls"
          }
        },
        "95229ee0655a4cbabfa3e1fe9ae68938": {
          "model_module": "@jupyter-widgets/base",
          "model_name": "LayoutModel",
          "model_module_version": "1.2.0",
          "state": {
            "_view_name": "LayoutView",
            "grid_template_rows": null,
            "right": null,
            "justify_content": null,
            "_view_module": "@jupyter-widgets/base",
            "overflow": null,
            "_model_module_version": "1.2.0",
            "_view_count": null,
            "flex_flow": null,
            "width": null,
            "min_width": null,
            "border": null,
            "align_items": null,
            "bottom": null,
            "_model_module": "@jupyter-widgets/base",
            "top": null,
            "grid_column": null,
            "overflow_y": null,
            "overflow_x": null,
            "grid_auto_flow": null,
            "grid_area": null,
            "grid_template_columns": null,
            "flex": null,
            "_model_name": "LayoutModel",
            "justify_items": null,
            "grid_row": null,
            "max_height": null,
            "align_content": null,
            "visibility": null,
            "align_self": null,
            "height": null,
            "min_height": null,
            "padding": null,
            "grid_auto_rows": null,
            "grid_gap": null,
            "max_width": null,
            "order": null,
            "_view_module_version": "1.2.0",
            "grid_template_areas": null,
            "object_position": null,
            "object_fit": null,
            "grid_auto_columns": null,
            "margin": null,
            "display": null,
            "left": null
          }
        },
        "c7e36349ba5242f8bc5aff4148536af6": {
          "model_module": "@jupyter-widgets/controls",
          "model_name": "ProgressStyleModel",
          "model_module_version": "1.5.0",
          "state": {
            "_view_name": "StyleView",
            "_model_name": "ProgressStyleModel",
            "description_width": "",
            "_view_module": "@jupyter-widgets/base",
            "_model_module_version": "1.5.0",
            "_view_count": null,
            "_view_module_version": "1.2.0",
            "bar_color": null,
            "_model_module": "@jupyter-widgets/controls"
          }
        },
        "8f93ae627a5245778a6f0ccbf992ed3b": {
          "model_module": "@jupyter-widgets/base",
          "model_name": "LayoutModel",
          "model_module_version": "1.2.0",
          "state": {
            "_view_name": "LayoutView",
            "grid_template_rows": null,
            "right": null,
            "justify_content": null,
            "_view_module": "@jupyter-widgets/base",
            "overflow": null,
            "_model_module_version": "1.2.0",
            "_view_count": null,
            "flex_flow": null,
            "width": null,
            "min_width": null,
            "border": null,
            "align_items": null,
            "bottom": null,
            "_model_module": "@jupyter-widgets/base",
            "top": null,
            "grid_column": null,
            "overflow_y": null,
            "overflow_x": null,
            "grid_auto_flow": null,
            "grid_area": null,
            "grid_template_columns": null,
            "flex": null,
            "_model_name": "LayoutModel",
            "justify_items": null,
            "grid_row": null,
            "max_height": null,
            "align_content": null,
            "visibility": null,
            "align_self": null,
            "height": null,
            "min_height": null,
            "padding": null,
            "grid_auto_rows": null,
            "grid_gap": null,
            "max_width": null,
            "order": null,
            "_view_module_version": "1.2.0",
            "grid_template_areas": null,
            "object_position": null,
            "object_fit": null,
            "grid_auto_columns": null,
            "margin": null,
            "display": null,
            "left": null
          }
        },
        "db6a89d2579b43a5bd78a24138f8d8ce": {
          "model_module": "@jupyter-widgets/controls",
          "model_name": "DescriptionStyleModel",
          "model_module_version": "1.5.0",
          "state": {
            "_view_name": "StyleView",
            "_model_name": "DescriptionStyleModel",
            "description_width": "",
            "_view_module": "@jupyter-widgets/base",
            "_model_module_version": "1.5.0",
            "_view_count": null,
            "_view_module_version": "1.2.0",
            "_model_module": "@jupyter-widgets/controls"
          }
        },
        "196e3d0852cf47a79570b6b8a86a6b95": {
          "model_module": "@jupyter-widgets/base",
          "model_name": "LayoutModel",
          "model_module_version": "1.2.0",
          "state": {
            "_view_name": "LayoutView",
            "grid_template_rows": null,
            "right": null,
            "justify_content": null,
            "_view_module": "@jupyter-widgets/base",
            "overflow": null,
            "_model_module_version": "1.2.0",
            "_view_count": null,
            "flex_flow": null,
            "width": null,
            "min_width": null,
            "border": null,
            "align_items": null,
            "bottom": null,
            "_model_module": "@jupyter-widgets/base",
            "top": null,
            "grid_column": null,
            "overflow_y": null,
            "overflow_x": null,
            "grid_auto_flow": null,
            "grid_area": null,
            "grid_template_columns": null,
            "flex": null,
            "_model_name": "LayoutModel",
            "justify_items": null,
            "grid_row": null,
            "max_height": null,
            "align_content": null,
            "visibility": null,
            "align_self": null,
            "height": null,
            "min_height": null,
            "padding": null,
            "grid_auto_rows": null,
            "grid_gap": null,
            "max_width": null,
            "order": null,
            "_view_module_version": "1.2.0",
            "grid_template_areas": null,
            "object_position": null,
            "object_fit": null,
            "grid_auto_columns": null,
            "margin": null,
            "display": null,
            "left": null
          }
        },
        "1cf5a4a4d99042b497c5cf56bf9dc100": {
          "model_module": "@jupyter-widgets/controls",
          "model_name": "HBoxModel",
          "model_module_version": "1.5.0",
          "state": {
            "_view_name": "HBoxView",
            "_dom_classes": [],
            "_model_name": "HBoxModel",
            "_view_module": "@jupyter-widgets/controls",
            "_model_module_version": "1.5.0",
            "_view_count": null,
            "_view_module_version": "1.5.0",
            "box_style": "",
            "layout": "IPY_MODEL_7f828951c9dd4adfba9d5856d8b7624a",
            "_model_module": "@jupyter-widgets/controls",
            "children": [
              "IPY_MODEL_181417d8d6b64fdd836b57811b1e48eb",
              "IPY_MODEL_2df12bead57044e5a6b2b2f5a03d9a11",
              "IPY_MODEL_7cd61d8998634c9683ba3d5f129899ad"
            ]
          }
        },
        "7f828951c9dd4adfba9d5856d8b7624a": {
          "model_module": "@jupyter-widgets/base",
          "model_name": "LayoutModel",
          "model_module_version": "1.2.0",
          "state": {
            "_view_name": "LayoutView",
            "grid_template_rows": null,
            "right": null,
            "justify_content": null,
            "_view_module": "@jupyter-widgets/base",
            "overflow": null,
            "_model_module_version": "1.2.0",
            "_view_count": null,
            "flex_flow": null,
            "width": null,
            "min_width": null,
            "border": null,
            "align_items": null,
            "bottom": null,
            "_model_module": "@jupyter-widgets/base",
            "top": null,
            "grid_column": null,
            "overflow_y": null,
            "overflow_x": null,
            "grid_auto_flow": null,
            "grid_area": null,
            "grid_template_columns": null,
            "flex": null,
            "_model_name": "LayoutModel",
            "justify_items": null,
            "grid_row": null,
            "max_height": null,
            "align_content": null,
            "visibility": null,
            "align_self": null,
            "height": null,
            "min_height": null,
            "padding": null,
            "grid_auto_rows": null,
            "grid_gap": null,
            "max_width": null,
            "order": null,
            "_view_module_version": "1.2.0",
            "grid_template_areas": null,
            "object_position": null,
            "object_fit": null,
            "grid_auto_columns": null,
            "margin": null,
            "display": null,
            "left": null
          }
        },
        "181417d8d6b64fdd836b57811b1e48eb": {
          "model_module": "@jupyter-widgets/controls",
          "model_name": "HTMLModel",
          "model_module_version": "1.5.0",
          "state": {
            "_view_name": "HTMLView",
            "style": "IPY_MODEL_ea6adc71e8af423086802deb28627758",
            "_dom_classes": [],
            "description": "",
            "_model_name": "HTMLModel",
            "placeholder": "​",
            "_view_module": "@jupyter-widgets/controls",
            "_model_module_version": "1.5.0",
            "value": "100%",
            "_view_count": null,
            "_view_module_version": "1.5.0",
            "description_tooltip": null,
            "_model_module": "@jupyter-widgets/controls",
            "layout": "IPY_MODEL_7d25c7b0dd2a4a1e87d47699fbdee184"
          }
        },
        "2df12bead57044e5a6b2b2f5a03d9a11": {
          "model_module": "@jupyter-widgets/controls",
          "model_name": "FloatProgressModel",
          "model_module_version": "1.5.0",
          "state": {
            "_view_name": "ProgressView",
            "style": "IPY_MODEL_c8231dc4400b45b1bfff300b40d48a11",
            "_dom_classes": [],
            "description": "",
            "_model_name": "FloatProgressModel",
            "bar_style": "success",
            "max": 200,
            "_view_module": "@jupyter-widgets/controls",
            "_model_module_version": "1.5.0",
            "value": 200,
            "_view_count": null,
            "_view_module_version": "1.5.0",
            "orientation": "horizontal",
            "min": 0,
            "description_tooltip": null,
            "_model_module": "@jupyter-widgets/controls",
            "layout": "IPY_MODEL_0f7d142e2cbe4ff69857009f43c5e909"
          }
        },
        "7cd61d8998634c9683ba3d5f129899ad": {
          "model_module": "@jupyter-widgets/controls",
          "model_name": "HTMLModel",
          "model_module_version": "1.5.0",
          "state": {
            "_view_name": "HTMLView",
            "style": "IPY_MODEL_a7720a0b0e4346ff9f3b1b702822734a",
            "_dom_classes": [],
            "description": "",
            "_model_name": "HTMLModel",
            "placeholder": "​",
            "_view_module": "@jupyter-widgets/controls",
            "_model_module_version": "1.5.0",
            "value": " 200/200 [00:00&lt;00:00, 563.10it/s]",
            "_view_count": null,
            "_view_module_version": "1.5.0",
            "description_tooltip": null,
            "_model_module": "@jupyter-widgets/controls",
            "layout": "IPY_MODEL_a4c04a389cc14124b9d6b1a0b25f12dc"
          }
        },
        "ea6adc71e8af423086802deb28627758": {
          "model_module": "@jupyter-widgets/controls",
          "model_name": "DescriptionStyleModel",
          "model_module_version": "1.5.0",
          "state": {
            "_view_name": "StyleView",
            "_model_name": "DescriptionStyleModel",
            "description_width": "",
            "_view_module": "@jupyter-widgets/base",
            "_model_module_version": "1.5.0",
            "_view_count": null,
            "_view_module_version": "1.2.0",
            "_model_module": "@jupyter-widgets/controls"
          }
        },
        "7d25c7b0dd2a4a1e87d47699fbdee184": {
          "model_module": "@jupyter-widgets/base",
          "model_name": "LayoutModel",
          "model_module_version": "1.2.0",
          "state": {
            "_view_name": "LayoutView",
            "grid_template_rows": null,
            "right": null,
            "justify_content": null,
            "_view_module": "@jupyter-widgets/base",
            "overflow": null,
            "_model_module_version": "1.2.0",
            "_view_count": null,
            "flex_flow": null,
            "width": null,
            "min_width": null,
            "border": null,
            "align_items": null,
            "bottom": null,
            "_model_module": "@jupyter-widgets/base",
            "top": null,
            "grid_column": null,
            "overflow_y": null,
            "overflow_x": null,
            "grid_auto_flow": null,
            "grid_area": null,
            "grid_template_columns": null,
            "flex": null,
            "_model_name": "LayoutModel",
            "justify_items": null,
            "grid_row": null,
            "max_height": null,
            "align_content": null,
            "visibility": null,
            "align_self": null,
            "height": null,
            "min_height": null,
            "padding": null,
            "grid_auto_rows": null,
            "grid_gap": null,
            "max_width": null,
            "order": null,
            "_view_module_version": "1.2.0",
            "grid_template_areas": null,
            "object_position": null,
            "object_fit": null,
            "grid_auto_columns": null,
            "margin": null,
            "display": null,
            "left": null
          }
        },
        "c8231dc4400b45b1bfff300b40d48a11": {
          "model_module": "@jupyter-widgets/controls",
          "model_name": "ProgressStyleModel",
          "model_module_version": "1.5.0",
          "state": {
            "_view_name": "StyleView",
            "_model_name": "ProgressStyleModel",
            "description_width": "",
            "_view_module": "@jupyter-widgets/base",
            "_model_module_version": "1.5.0",
            "_view_count": null,
            "_view_module_version": "1.2.0",
            "bar_color": null,
            "_model_module": "@jupyter-widgets/controls"
          }
        },
        "0f7d142e2cbe4ff69857009f43c5e909": {
          "model_module": "@jupyter-widgets/base",
          "model_name": "LayoutModel",
          "model_module_version": "1.2.0",
          "state": {
            "_view_name": "LayoutView",
            "grid_template_rows": null,
            "right": null,
            "justify_content": null,
            "_view_module": "@jupyter-widgets/base",
            "overflow": null,
            "_model_module_version": "1.2.0",
            "_view_count": null,
            "flex_flow": null,
            "width": null,
            "min_width": null,
            "border": null,
            "align_items": null,
            "bottom": null,
            "_model_module": "@jupyter-widgets/base",
            "top": null,
            "grid_column": null,
            "overflow_y": null,
            "overflow_x": null,
            "grid_auto_flow": null,
            "grid_area": null,
            "grid_template_columns": null,
            "flex": null,
            "_model_name": "LayoutModel",
            "justify_items": null,
            "grid_row": null,
            "max_height": null,
            "align_content": null,
            "visibility": null,
            "align_self": null,
            "height": null,
            "min_height": null,
            "padding": null,
            "grid_auto_rows": null,
            "grid_gap": null,
            "max_width": null,
            "order": null,
            "_view_module_version": "1.2.0",
            "grid_template_areas": null,
            "object_position": null,
            "object_fit": null,
            "grid_auto_columns": null,
            "margin": null,
            "display": null,
            "left": null
          }
        },
        "a7720a0b0e4346ff9f3b1b702822734a": {
          "model_module": "@jupyter-widgets/controls",
          "model_name": "DescriptionStyleModel",
          "model_module_version": "1.5.0",
          "state": {
            "_view_name": "StyleView",
            "_model_name": "DescriptionStyleModel",
            "description_width": "",
            "_view_module": "@jupyter-widgets/base",
            "_model_module_version": "1.5.0",
            "_view_count": null,
            "_view_module_version": "1.2.0",
            "_model_module": "@jupyter-widgets/controls"
          }
        },
        "a4c04a389cc14124b9d6b1a0b25f12dc": {
          "model_module": "@jupyter-widgets/base",
          "model_name": "LayoutModel",
          "model_module_version": "1.2.0",
          "state": {
            "_view_name": "LayoutView",
            "grid_template_rows": null,
            "right": null,
            "justify_content": null,
            "_view_module": "@jupyter-widgets/base",
            "overflow": null,
            "_model_module_version": "1.2.0",
            "_view_count": null,
            "flex_flow": null,
            "width": null,
            "min_width": null,
            "border": null,
            "align_items": null,
            "bottom": null,
            "_model_module": "@jupyter-widgets/base",
            "top": null,
            "grid_column": null,
            "overflow_y": null,
            "overflow_x": null,
            "grid_auto_flow": null,
            "grid_area": null,
            "grid_template_columns": null,
            "flex": null,
            "_model_name": "LayoutModel",
            "justify_items": null,
            "grid_row": null,
            "max_height": null,
            "align_content": null,
            "visibility": null,
            "align_self": null,
            "height": null,
            "min_height": null,
            "padding": null,
            "grid_auto_rows": null,
            "grid_gap": null,
            "max_width": null,
            "order": null,
            "_view_module_version": "1.2.0",
            "grid_template_areas": null,
            "object_position": null,
            "object_fit": null,
            "grid_auto_columns": null,
            "margin": null,
            "display": null,
            "left": null
          }
        }
      }
    }
  },
  "cells": [
    {
      "cell_type": "markdown",
      "source": [
        "# **Image Classification**\n",
        "## **Traffic Sign Classification**"
      ],
      "metadata": {
        "id": "XnZLvMz60e41"
      }
    },
    {
      "cell_type": "markdown",
      "source": [
        "####*Submitted by:* \n",
        ">> **_Usama Aleem Shami_**\\\n",
        ">> _Reg. No. : **329894**\\\n",
        ">> MSCS 2020_\n",
        "####*Submitted to:* \n",
        ">> **_Dr. Muhammad Moazam Fraz_**\\\n",
        ">> _Advanced Computer Vision (CS-893)_"
      ],
      "metadata": {
        "id": "1KHX8DoItXaS"
      }
    },
    {
      "cell_type": "markdown",
      "source": [
        "## Table of Contents\n",
        "\n",
        "1. [Connecting Google Drive and Importing Data Set](#Gdrive)\n",
        "2. [Importing Packages/Modules](#Package)\n",
        "3. [Defining Utility Functions](#Utils)\n",
        "4. [Loading Dataset](#Load)\n",
        "5. [Computing Features using HoG](#HoG)\n",
        "6. [Training Model](#Train)\n",
        "7. [Predicting Classes after Loading the Trained Model](#Predict)\n",
        "8. [Plotting Confusion Matrices and Computing Performance Metrics](#Plot)\n",
        "9. [Reporting Quantitative Results](#Quantitative)\n",
        "10. [Displaying Qualitative Results](#Qualitative)"
      ],
      "metadata": {
        "id": "hY30RPcZ0ml0"
      }
    },
    {
      "cell_type": "markdown",
      "source": [
        "# Connecting Google Drive and Importing Data Set <a name=\"Gdrive\"></a>"
      ],
      "metadata": {
        "id": "tFHxh5ldtae8"
      }
    },
    {
      "cell_type": "code",
      "source": [
        "# Mounting Google Drive with Google Colab\n",
        "from google.colab import drive\n",
        "drive.mount('/content/drive')"
      ],
      "metadata": {
        "colab": {
          "base_uri": "https://localhost:8080/"
        },
        "id": "399thDK7tda0",
        "outputId": "78988d9d-19df-4737-b198-c63c13048ed6"
      },
      "execution_count": 1,
      "outputs": [
        {
          "output_type": "stream",
          "name": "stdout",
          "text": [
            "Mounted at /content/drive\n"
          ]
        }
      ]
    },
    {
      "cell_type": "code",
      "source": [
        "# Specifying Google Drive Path where Dataset is located\n",
        "DATASET_PATH_GDRIVE = '/content/drive/MyDrive/ACV/Assignments/Asg1'\n",
        "\n",
        "# Specifying Google Colab Path where Dataset is to be copied\n",
        "DATASET_PATH_LOCAL = '/content/dataset'"
      ],
      "metadata": {
        "id": "ohQUJ1oOtfuM"
      },
      "execution_count": 2,
      "outputs": []
    },
    {
      "cell_type": "code",
      "source": [
        "# Creating desired Directory in Google Colab WorkSpace\n",
        "!mkdir $DATASET_PATH_LOCAL\n",
        "\n",
        "# Copying .zip file from Google Drive to Google Colab WorkSpace\n",
        "!cp $DATASET_PATH_GDRIVE/A1_Dataset_TSC.zip $DATASET_PATH_LOCAL # MUST mention the FILE NAME after GDrive Path\n",
        "\n",
        "print (\"File Copied to Colab Workspace from GDrive, successfully!\")"
      ],
      "metadata": {
        "id": "7VM65BTptjYq",
        "colab": {
          "base_uri": "https://localhost:8080/"
        },
        "outputId": "85638a9d-ed8a-4dc3-c332-b2ceb5c36cde"
      },
      "execution_count": 3,
      "outputs": [
        {
          "output_type": "stream",
          "name": "stdout",
          "text": [
            "File Copied to Colab Workspace from GDrive, successfully!\n"
          ]
        }
      ]
    },
    {
      "cell_type": "code",
      "source": [
        "# Unzipping TSC Dataset to Colab Workspace\n",
        "!unzip -q $DATASET_PATH_LOCAL/A1_Dataset_TSC.zip -d $DATASET_PATH_LOCAL\n",
        "\n",
        "print (\"TSC Dataset Unzipped to Colab Workspace, successfully!\")"
      ],
      "metadata": {
        "id": "Uz1L9V3qtuYB",
        "colab": {
          "base_uri": "https://localhost:8080/"
        },
        "outputId": "292d002c-5e3d-4c37-e5a8-f05bfd141873"
      },
      "execution_count": 4,
      "outputs": [
        {
          "output_type": "stream",
          "name": "stdout",
          "text": [
            "TSC Dataset Unzipped to Colab Workspace, successfully!\n"
          ]
        }
      ]
    },
    {
      "cell_type": "markdown",
      "source": [
        "#Importing Packages/Modules <a name=\"Package\"></a>"
      ],
      "metadata": {
        "id": "268Ptqzetc9C"
      }
    },
    {
      "cell_type": "code",
      "source": [
        "import os\n",
        "import cv2 as cv\n",
        "import numpy as np\n",
        "import matplotlib\n",
        "import PIL\n",
        "import joblib\n",
        "import skimage\n",
        "import sklearn\n",
        "\n",
        "from PIL import Image\n",
        "from matplotlib import pyplot as plt\n",
        "from tqdm.notebook import tqdm\n",
        "from skimage import feature\n",
        "from sklearn.metrics import confusion_matrix\n",
        "from sklearn.metrics import accuracy_score\n",
        "from sklearn.metrics import f1_score\n",
        "from sklearn.metrics import precision_score\n",
        "from sklearn.metrics import recall_score\n",
        "from sklearn.svm import LinearSVC\n",
        "from sklearn.metrics import classification_report"
      ],
      "metadata": {
        "id": "iW3HDdSptypM"
      },
      "execution_count": 5,
      "outputs": []
    },
    {
      "cell_type": "code",
      "source": [
        "# Displaying Versions of Installed Packages\n",
        "!python --version \n",
        "print('OpenCV Version:', cv.__version__)\n",
        "print('Numpy Version:', np.__version__)\n",
        "print('Matplotlib Version:', matplotlib.__version__)\n",
        "print('Pillow Version:', PIL.__version__)\n",
        "print('Joblib Version:', joblib.__version__)\n",
        "print('Scikit Learn Version:', sklearn.__version__)\n",
        "print('Scikit Image Version:', skimage.__version__)"
      ],
      "metadata": {
        "id": "tvyALrO-urRF",
        "colab": {
          "base_uri": "https://localhost:8080/"
        },
        "outputId": "7cf9b5ff-18d7-4d22-d95d-948ed34dbbcf"
      },
      "execution_count": 6,
      "outputs": [
        {
          "output_type": "stream",
          "name": "stdout",
          "text": [
            "Python 3.7.12\n",
            "OpenCV Version: 4.1.2\n",
            "Numpy Version: 1.21.5\n",
            "Matplotlib Version: 3.2.2\n",
            "Pillow Version: 7.1.2\n",
            "Joblib Version: 1.1.0\n",
            "Scikit Learn Version: 1.0.2\n",
            "Scikit Image Version: 0.18.3\n"
          ]
        }
      ]
    },
    {
      "cell_type": "markdown",
      "source": [
        "#Defining Utility Functions <a name=\"Utils\"></a>"
      ],
      "metadata": {
        "id": "Und1SQKKdPwH"
      }
    },
    {
      "cell_type": "code",
      "source": [
        "# Function to Load Images\n",
        "def loadPPMImages(def_path, num_classes, DatasetType, x, y):\n",
        "  \"\"\"\n",
        "    This function loads images by taking directory's path, no. of classes, folder name and dimensions to resize \n",
        "    images as its input parameters and returns the images along with their labels.\n",
        "    # Args:\n",
        "    #   def_path: a string containing the path of direcotry containing the dataset\n",
        "    #   num_classes: an integer depicting the total number of classes\n",
        "    #   DatasetType: a string depicting the folder name depending upon its type i.e. Train or Test\n",
        "    #   x,y: integer values for resizing image dimensions to (x,y)\n",
        "    # Returns:\n",
        "    #   two numpy arrays containing data (images) and their labels respectively\n",
        "    \n",
        "  \"\"\"\n",
        "  data = []\n",
        "  labels = []\n",
        "  DatasetType\n",
        "  for i in tqdm(range(num_classes)):\n",
        "    path = os. path.join(def_path,DatasetType,str(i+1)) \n",
        "    images = os.listdir(path) \n",
        "    for a in images: \n",
        "      try: \n",
        "        image = Image.open(path + '/'+ a).convert(\"L\").resize((x,y)) \n",
        "        image = np.array(image) \n",
        "        data.append(image) \n",
        "        labels.append(i+1) \n",
        "      except: \n",
        "        print(\"Error loading image\")\n",
        "  return data, labels\n",
        "\n",
        "\n",
        "# Function to Compute HoG Features\n",
        "def computeHOG(image):\n",
        "  \"\"\"\n",
        "    This function computes Histogram of Oriented Gradients of the input image and returns the feature vector\n",
        "    along with the image showing the Oriented Gradients.\n",
        "  \"\"\"\n",
        "  (H, hogImage) = feature.hog(image, orientations = 9,\n",
        "                                pixels_per_cell  = (8, 8), cells_per_block  = (2, 2), transform_sqrt = True,\n",
        "                                block_norm  = 'L1' , visualize = True)\n",
        "  return (H, hogImage)\n",
        "\n",
        "\n",
        "# Function to Construct and Plot Confusion Matrix\n",
        "def plotConfusionMatrix(y_true, y_pred, classes,\n",
        "                          normalize = False,\n",
        "                          title = None,\n",
        "                          cmap = plt.cm.Blues):\n",
        "  \"\"\"\n",
        "    This function constructs Confusion Matrix by taking True and Predicted values, and an array of class labels \n",
        "    as its input parameters\n",
        "  \"\"\" \n",
        "  if not title:\n",
        "      if normalize:\n",
        "          title = 'Normalized Confusion Matrix'\n",
        "      else:\n",
        "          title = 'Confusion Matrix without Normalization'\n",
        "\n",
        "  cm = confusion_matrix(y_true, y_pred)\n",
        "  if normalize:\n",
        "      cm = cm.astype('float') / cm.sum(axis=1)[:, np.newaxis]\n",
        "      print(\"Normalized Confusion Matrix\")\n",
        "  else:\n",
        "      print('Confusion Matrix without Normalization')\n",
        "\n",
        "  print(cm)\n",
        "\n",
        "  fig, ax = plt.subplots()\n",
        "  im = ax.imshow(cm, interpolation='nearest', cmap=cmap)\n",
        "  ax.figure.colorbar(im, ax=ax)\n",
        "  ax.set(xticks=np.arange(cm.shape[1]),\n",
        "          yticks=np.arange(cm.shape[0]),\n",
        "          xticklabels=classes, yticklabels=classes,\n",
        "          title=title,\n",
        "          ylabel='True label',\n",
        "          xlabel='Predicted label')\n",
        "\n",
        "  plt.setp(ax.get_xticklabels(), rotation=45, ha=\"right\",\n",
        "            rotation_mode=\"anchor\")\n",
        "\n",
        "  fmt = '.2f' if normalize else 'd'\n",
        "  thresh = cm.max() / 2.\n",
        "  for i in range(cm.shape[0]):\n",
        "      for j in range(cm.shape[1]):\n",
        "          ax.text(j, i, format(cm[i, j], fmt),\n",
        "                  ha=\"center\", va=\"center\",\n",
        "                  color=\"white\" if cm[i, j] > thresh else \"black\")\n",
        "  fig.tight_layout()\n",
        "  return ax\n",
        "\n",
        "# Function to Plot Confusion Matrices (With and Without Normalization)\n",
        "def plotConfusions(true, predictions):\n",
        "  \"\"\"\n",
        "    This function plots the Confusion Matrices, with and without Normalizing the scores.\n",
        "  \"\"\" \n",
        "  np.set_printoptions(precision = 2)\n",
        "\n",
        "  class_names = [\"1\", \"2\", \"3\", \"4\", \"5\", \"6\", \"7\", \"8\", \"9\", \"10\"]\n",
        "  plotConfusionMatrix(true, predictions, classes = class_names,\n",
        "                    title='Confusion Matrix without normalization')\n",
        "\n",
        "  plotConfusionMatrix(true, predictions, classes = class_names, normalize = True,\n",
        "                    title='Normalized Confusion Matrix')\n",
        "\n",
        "  plt.show()\n",
        "\n",
        "# Function to Compute Performance Metrics\n",
        "def findPerformanceMetrics(true, predictions):\n",
        "  \"\"\"\n",
        "    This function prints the Performance Metrics of a Model by taking True and Predicted values as \n",
        "    its imput parameters\n",
        "  \"\"\" \n",
        "  print('-----------------------')\n",
        "  print(\"Accuracy Score:  %0.3f\"% accuracy_score(true, predictions))\n",
        "  print(\"Precision Score: %0.3f\"% precision_score(true, predictions,average = 'micro'))\n",
        "  print(\"Recall Score:    %0.3f\"% recall_score(true, predictions, average = 'micro'))\n",
        "  print(\"F1 Score:        %0.3f\"% f1_score(true, predictions, average = 'micro'))\n",
        "  print('-----------------------')\n",
        "  return accuracy_score"
      ],
      "metadata": {
        "id": "klqkvf31uZtP"
      },
      "execution_count": 8,
      "outputs": []
    },
    {
      "cell_type": "markdown",
      "source": [
        "#Loading Dataset <a name=\"Load\"></a>"
      ],
      "metadata": {
        "id": "5uM9ILITcxK-"
      }
    },
    {
      "cell_type": "code",
      "source": [
        "# Defining Path for Dataset\n",
        "cur_path = DATASET_PATH_LOCAL + '/A1_Dataset_TSC'\n",
        "\n",
        "# Loading Training Images\n",
        "dataTrain , labelTrain = loadPPMImages(cur_path, 10, 'Train', 30, 30)\n",
        "print(\"Training Images loaded successfully!\")\n",
        "\n",
        "dataTrain = np.array(dataTrain)\n",
        "labelTrain = np.array(labelTrain)\n",
        "print(dataTrain.shape, labelTrain.shape)\n",
        "\n",
        "# Loading Testing Images\n",
        "dataTest , labelTest = loadPPMImages(cur_path, 10, 'Test', 30, 30)\n",
        "print(\"Testing Images loaded successfully!\")\n",
        "\n",
        "dataTest = np.array(dataTest)\n",
        "labelTest = np.array(labelTest)\n",
        "print(dataTest.shape, labelTest.shape)"
      ],
      "metadata": {
        "id": "VnmZpFepucDy",
        "colab": {
          "base_uri": "https://localhost:8080/",
          "height": 154,
          "referenced_widgets": [
            "563d1046170c4d2cb2670c16f78b83d8",
            "98f0a1f284a94a84af3d04414f644c87",
            "a2c28a644a6e484e8fd09cf258cb24bf",
            "002e78f88307427c9f1eeb0f5157e5a0",
            "c0df726d69aa48d99205f980d5ec173f",
            "2b0301ef8d5745008449ed5c981004ec",
            "1c69cf953e784051be67c028aab5fc96",
            "2fd75bd632f94ab495939e7673e2e0c3",
            "ff87afd31a7a480ebe1dfd1821bec33f",
            "5d1ab0aab06f452eb1ff404aae147393",
            "12a2c2e07d134e38b6abda8f89e392a1",
            "9f6b759c976e47dea54e8be194d48ac6",
            "15bb46bee3f44901bc70354fae97ae16",
            "a8a5ad07741e48cb8bfbc92c2bc76b88",
            "109cb41bb80640938e77d5c82e90c0d9",
            "6cda51fd43764b2c8a5d74dcf133f555",
            "de0378e66f9a456a96dd72eef75ad923",
            "183bad26729e492dbfea47099e9ba28c",
            "74f4645c2f544ebcbccd6c4c2124a422",
            "c26bbb4cd0dc43b9801731b5487c7fbc",
            "a8a731054062455b8dd26d96e97b6dfd",
            "42ad2e30b7c74a99bedef68adee20f7d"
          ]
        },
        "outputId": "c97890ea-11c0-4225-c62e-140d093dd56a"
      },
      "execution_count": 9,
      "outputs": [
        {
          "output_type": "display_data",
          "data": {
            "application/vnd.jupyter.widget-view+json": {
              "model_id": "563d1046170c4d2cb2670c16f78b83d8",
              "version_minor": 0,
              "version_major": 2
            },
            "text/plain": [
              "  0%|          | 0/10 [00:00<?, ?it/s]"
            ]
          },
          "metadata": {}
        },
        {
          "output_type": "stream",
          "name": "stdout",
          "text": [
            "Training Images loaded successfully!\n",
            "(800, 30, 30) (800,)\n"
          ]
        },
        {
          "output_type": "display_data",
          "data": {
            "application/vnd.jupyter.widget-view+json": {
              "model_id": "9f6b759c976e47dea54e8be194d48ac6",
              "version_minor": 0,
              "version_major": 2
            },
            "text/plain": [
              "  0%|          | 0/10 [00:00<?, ?it/s]"
            ]
          },
          "metadata": {}
        },
        {
          "output_type": "stream",
          "name": "stdout",
          "text": [
            "Testing Images loaded successfully!\n",
            "(200, 30, 30) (200,)\n"
          ]
        }
      ]
    },
    {
      "cell_type": "markdown",
      "source": [
        "#Computing Features using HoG <a name=\"HoG\"></a>"
      ],
      "metadata": {
        "id": "h6syHEMIeIWu"
      }
    },
    {
      "cell_type": "code",
      "source": [
        "# dataTrain --> contains resized training images\n",
        "# labelTrain --> contains labels of training images\n",
        "# dataTest --> contains resized testing images\n",
        "# labelTest --> contains labels of testing images\n",
        "\n",
        "\n",
        "global hogTrain #HOG Feature Vectors for Training Images\n",
        "global hogTest #HOG Feature Vectors for Testing Images\n",
        "\n",
        "hogTrain = []\n",
        "hogImgTrain = []\n",
        "\n",
        "# Computing the HOG features for Training Dataset (Images)\n",
        "for i in tqdm(range(0,len(dataTrain))):\n",
        "  (h_vector, h_image) = computeHOG(dataTrain[i])\n",
        "  hogTrain.append(h_vector)\n",
        "  hogImgTrain.append(h_image)\n",
        "print(\"HOG computed for Training Images successfully! \\n\")\n",
        "\n",
        "hogTest = []\n",
        "hogImgTest = []\n",
        "\n",
        "# Computing the HOG features for Testing Dataset (Images)\n",
        "for i in tqdm(range(0,len(dataTest))):\n",
        "  (h_vector, h_image) = computeHOG(dataTest[i])\n",
        "  hogTest.append(h_vector)\n",
        "  hogImgTest.append(h_image)\n",
        "print(\"HOG computed for Testing Images successfully!\")"
      ],
      "metadata": {
        "id": "6-hsdqDYu27d",
        "colab": {
          "base_uri": "https://localhost:8080/",
          "height": 136,
          "referenced_widgets": [
            "af99eadc75084d618bdac426d9252dac",
            "ca9deb9b93e7491c88e4bcc875223662",
            "1992e525c6154c54b1f826c7f88f50da",
            "38852bcc2117421c9ce866fef305aef2",
            "8c256476fd4447159c77353a0fdc5441",
            "f539de2c74654df8879f8efe87dfb9df",
            "95229ee0655a4cbabfa3e1fe9ae68938",
            "c7e36349ba5242f8bc5aff4148536af6",
            "8f93ae627a5245778a6f0ccbf992ed3b",
            "db6a89d2579b43a5bd78a24138f8d8ce",
            "196e3d0852cf47a79570b6b8a86a6b95",
            "1cf5a4a4d99042b497c5cf56bf9dc100",
            "7f828951c9dd4adfba9d5856d8b7624a",
            "181417d8d6b64fdd836b57811b1e48eb",
            "2df12bead57044e5a6b2b2f5a03d9a11",
            "7cd61d8998634c9683ba3d5f129899ad",
            "ea6adc71e8af423086802deb28627758",
            "7d25c7b0dd2a4a1e87d47699fbdee184",
            "c8231dc4400b45b1bfff300b40d48a11",
            "0f7d142e2cbe4ff69857009f43c5e909",
            "a7720a0b0e4346ff9f3b1b702822734a",
            "a4c04a389cc14124b9d6b1a0b25f12dc"
          ]
        },
        "outputId": "8f55245a-b4d9-403a-b3a6-9b574d5b9d16"
      },
      "execution_count": 10,
      "outputs": [
        {
          "output_type": "display_data",
          "data": {
            "application/vnd.jupyter.widget-view+json": {
              "model_id": "af99eadc75084d618bdac426d9252dac",
              "version_minor": 0,
              "version_major": 2
            },
            "text/plain": [
              "  0%|          | 0/800 [00:00<?, ?it/s]"
            ]
          },
          "metadata": {}
        },
        {
          "output_type": "stream",
          "name": "stdout",
          "text": [
            "HOG computed for Training Images successfully! \n",
            "\n"
          ]
        },
        {
          "output_type": "display_data",
          "data": {
            "application/vnd.jupyter.widget-view+json": {
              "model_id": "1cf5a4a4d99042b497c5cf56bf9dc100",
              "version_minor": 0,
              "version_major": 2
            },
            "text/plain": [
              "  0%|          | 0/200 [00:00<?, ?it/s]"
            ]
          },
          "metadata": {}
        },
        {
          "output_type": "stream",
          "name": "stdout",
          "text": [
            "HOG computed for Testing Images successfully!\n"
          ]
        }
      ]
    },
    {
      "cell_type": "markdown",
      "source": [
        "#Training Model <a name=\"Train\"></a>"
      ],
      "metadata": {
        "id": "Nz0zuvqwfjRv"
      }
    },
    {
      "cell_type": "code",
      "source": [
        "# Training Linear SVC (SVM Classifier)\n",
        "clf1 = LinearSVC().fit(hogTrain, labelTrain)\n",
        "print(\"SVC training completed!\")\n",
        "\n",
        "# Saving Trained Model (Linear SVC)\n",
        "filename1 = DATASET_PATH_LOCAL + '/Linear_SVC.joblib'\n",
        "joblib.dump(clf1, filename1)\n",
        "print(\"Linear Support Vector Classifier Model saved!\")"
      ],
      "metadata": {
        "id": "AkW_fQvswOR6",
        "colab": {
          "base_uri": "https://localhost:8080/"
        },
        "outputId": "d32bf3e0-a8cc-4098-d139-0a602ad7c0d5"
      },
      "execution_count": 11,
      "outputs": [
        {
          "output_type": "stream",
          "name": "stdout",
          "text": [
            "SVC training completed!\n",
            "Linear Support Vector Classifier Model saved!\n"
          ]
        }
      ]
    },
    {
      "cell_type": "markdown",
      "source": [
        "#Predicting Classes after Loading the Trained Model <a name=\"Predict\"></a>"
      ],
      "metadata": {
        "id": "DRD0NIhUf7n1"
      }
    },
    {
      "cell_type": "code",
      "source": [
        "# Loading Trained Linear SVC for Predicting Labels\n",
        "svc = joblib.load(filename1)\n",
        "labelPredictedSVC = svc.predict(hogTest)\n",
        "print(\"Labels Predicted for Testing Dataset by Linear SVC \\n\")\n",
        "\n",
        "print(\"Comparing Predicted and Actual labels\\n\")\n",
        "print(np.transpose(labelPredictedSVC[0:200]),'\\n')\n",
        "print(np.transpose(labelTest[0:200]),'\\n')"
      ],
      "metadata": {
        "id": "18PsqzhJyrKP",
        "colab": {
          "base_uri": "https://localhost:8080/"
        },
        "outputId": "d45817b4-a2e2-428e-f441-d93cbf14235e"
      },
      "execution_count": 12,
      "outputs": [
        {
          "output_type": "stream",
          "name": "stdout",
          "text": [
            "Labels Predicted for Testing Dataset by Linear SVC \n",
            "\n",
            "Comparing Predicted and Actual labels\n",
            "\n",
            "[ 1  1  1  1  1  1  1  1  1  1  1  1  1  1  1  1  1  1  1  1  2  2  2  2\n",
            "  2  2  2  2  2  2  2  2  2  2  2  2  2  2  2  2  3  3  3  3  3  3  2  3\n",
            "  3  3  3  3  3  3  3  3  3  3  3  3  4  4  4  4  4  4  4  4  4  4  4  4\n",
            "  4  4  4  4  4  4  4  4  5  5  5  5  5  5  5  5  5  5  5  5  5  5  5  5\n",
            "  5  5  5  5  6  6  6  6  6  6  6  6  6  6  6  6  6  6  6  6  6  6  6  6\n",
            "  7  7  7  7  7  7  7  7  7  7  7  7  7  7  7  7  7  7  7  7  8  8  8  8\n",
            "  8  8  8  8  8  8  8  8  8  8  8  8  8  8  8  8  9  9  9  9  9  9  9  9\n",
            "  9  9  9  9  9  9  9  9  9  9  9  9 10 10 10 10 10 10 10 10 10 10 10 10\n",
            " 10 10 10 10 10 10 10 10] \n",
            "\n",
            "[ 1  1  1  1  1  1  1  1  1  1  1  1  1  1  1  1  1  1  1  1  2  2  2  2\n",
            "  2  2  2  2  2  2  2  2  2  2  2  2  2  2  2  2  3  3  3  3  3  3  3  3\n",
            "  3  3  3  3  3  3  3  3  3  3  3  3  4  4  4  4  4  4  4  4  4  4  4  4\n",
            "  4  4  4  4  4  4  4  4  5  5  5  5  5  5  5  5  5  5  5  5  5  5  5  5\n",
            "  5  5  5  5  6  6  6  6  6  6  6  6  6  6  6  6  6  6  6  6  6  6  6  6\n",
            "  7  7  7  7  7  7  7  7  7  7  7  7  7  7  7  7  7  7  7  7  8  8  8  8\n",
            "  8  8  8  8  8  8  8  8  8  8  8  8  8  8  8  8  9  9  9  9  9  9  9  9\n",
            "  9  9  9  9  9  9  9  9  9  9  9  9 10 10 10 10 10 10 10 10 10 10 10 10\n",
            " 10 10 10 10 10 10 10 10] \n",
            "\n"
          ]
        }
      ]
    },
    {
      "cell_type": "markdown",
      "source": [
        "#Plotting Confusion Matrices and Computing Performance Metrics <a name=\"Plot\"></a>"
      ],
      "metadata": {
        "id": "xO1BC1TlgSZT"
      }
    },
    {
      "cell_type": "code",
      "source": [
        "plotConfusions(labelTest, labelPredictedSVC)\n",
        "print(\"Confusion Matrices plotted! \\n\")\n",
        "\n",
        "findPerformanceMetrics(labelTest, labelPredictedSVC)\n",
        "print(\"\\nPerformance Metrics calculated! \\n\")"
      ],
      "metadata": {
        "id": "XsDOOe6AzbIH",
        "colab": {
          "base_uri": "https://localhost:8080/",
          "height": 1000
        },
        "outputId": "e23be5a5-6418-450d-fef5-649b777e29b2"
      },
      "execution_count": 13,
      "outputs": [
        {
          "output_type": "stream",
          "name": "stdout",
          "text": [
            "Confusion Matrix without Normalization\n",
            "[[20  0  0  0  0  0  0  0  0  0]\n",
            " [ 0 20  0  0  0  0  0  0  0  0]\n",
            " [ 0  1 19  0  0  0  0  0  0  0]\n",
            " [ 0  0  0 20  0  0  0  0  0  0]\n",
            " [ 0  0  0  0 20  0  0  0  0  0]\n",
            " [ 0  0  0  0  0 20  0  0  0  0]\n",
            " [ 0  0  0  0  0  0 20  0  0  0]\n",
            " [ 0  0  0  0  0  0  0 20  0  0]\n",
            " [ 0  0  0  0  0  0  0  0 20  0]\n",
            " [ 0  0  0  0  0  0  0  0  0 20]]\n",
            "Normalized Confusion Matrix\n",
            "[[1.   0.   0.   0.   0.   0.   0.   0.   0.   0.  ]\n",
            " [0.   1.   0.   0.   0.   0.   0.   0.   0.   0.  ]\n",
            " [0.   0.05 0.95 0.   0.   0.   0.   0.   0.   0.  ]\n",
            " [0.   0.   0.   1.   0.   0.   0.   0.   0.   0.  ]\n",
            " [0.   0.   0.   0.   1.   0.   0.   0.   0.   0.  ]\n",
            " [0.   0.   0.   0.   0.   1.   0.   0.   0.   0.  ]\n",
            " [0.   0.   0.   0.   0.   0.   1.   0.   0.   0.  ]\n",
            " [0.   0.   0.   0.   0.   0.   0.   1.   0.   0.  ]\n",
            " [0.   0.   0.   0.   0.   0.   0.   0.   1.   0.  ]\n",
            " [0.   0.   0.   0.   0.   0.   0.   0.   0.   1.  ]]\n"
          ]
        },
        {
          "output_type": "display_data",
          "data": {
            "image/png": "[encoded data removed]",
            "text/plain": [
              "<Figure size 432x288 with 2 Axes>"
            ]
          },
          "metadata": {
            "needs_background": "light"
          }
        },
        {
          "output_type": "display_data",
          "data": {
            "image/png": "[encoded data removed]",
            "text/plain": [
              "<Figure size 432x288 with 2 Axes>"
            ]
          },
          "metadata": {
            "needs_background": "light"
          }
        },
        {
          "output_type": "stream",
          "name": "stdout",
          "text": [
            "Confusion Matrices plotted! \n",
            "\n",
            "-----------------------\n",
            "Accuracy Score:  0.995\n",
            "Precision Score: 0.995\n",
            "Recall Score:    0.995\n",
            "F1 Score:        0.995\n",
            "-----------------------\n",
            "\n",
            "Performance Metrics calculated! \n",
            "\n"
          ]
        }
      ]
    },
    {
      "cell_type": "markdown",
      "source": [
        "#Reporting Quantitative Results <a name=\"Quantitative\"></a>"
      ],
      "metadata": {
        "id": "Je36mrXVgdmM"
      }
    },
    {
      "cell_type": "code",
      "source": [
        "# Showing Performance Metrics for our Model\n",
        "class_names = [\"1\", \"2\", \"3\", \"4\", \"5\", \"6\", \"7\", \"8\", \"9\", \"10\"]\n",
        "print(classification_report(labelTest, labelPredictedSVC, target_names = class_names))"
      ],
      "metadata": {
        "id": "RDttFweXzwDL",
        "colab": {
          "base_uri": "https://localhost:8080/"
        },
        "outputId": "b6934449-114d-48e7-9f79-7555da673f1e"
      },
      "execution_count": 14,
      "outputs": [
        {
          "output_type": "stream",
          "name": "stdout",
          "text": [
            "              precision    recall  f1-score   support\n",
            "\n",
            "           1       1.00      1.00      1.00        20\n",
            "           2       0.95      1.00      0.98        20\n",
            "           3       1.00      0.95      0.97        20\n",
            "           4       1.00      1.00      1.00        20\n",
            "           5       1.00      1.00      1.00        20\n",
            "           6       1.00      1.00      1.00        20\n",
            "           7       1.00      1.00      1.00        20\n",
            "           8       1.00      1.00      1.00        20\n",
            "           9       1.00      1.00      1.00        20\n",
            "          10       1.00      1.00      1.00        20\n",
            "\n",
            "    accuracy                           0.99       200\n",
            "   macro avg       1.00      0.99      0.99       200\n",
            "weighted avg       1.00      0.99      0.99       200\n",
            "\n"
          ]
        }
      ]
    },
    {
      "cell_type": "markdown",
      "source": [
        "#Displaying Qualitative Results <a name=\"Qualitative\"></a>"
      ],
      "metadata": {
        "id": "xbs76GyOhcJZ"
      }
    },
    {
      "cell_type": "code",
      "source": [
        "# Displaying Images highlighting Correct and Incorrect Predictions\n",
        "\n",
        "rows = 5\n",
        "columns = 5\n",
        "startIndex = 35\n",
        "\n",
        "fig, ax = plt.subplots(nrows = rows, ncols = columns, sharex = True, sharey = True, figsize=(10,10))\n",
        "for i in range(rows):\n",
        "    for j in range(columns):\n",
        "        img = dataTest[startIndex]\n",
        "        ax[i][j].imshow(img, cmap ='gray')\n",
        "        ax[i][j].set_title(labelPredictedSVC[startIndex])\n",
        "        if labelPredictedSVC[startIndex] == labelTest[startIndex]:\n",
        "          ax[i][j].set_xlabel('True') #Flag for Correct Predition\n",
        "        else:\n",
        "          ax[i][j].set_xlabel('False') #Flag for Wrong Predition\n",
        "        startIndex += 1\n",
        "        \n",
        "ax[0][0].set_yticks([])\n",
        "ax[0][0].set_xticks([])\n",
        "plt.tight_layout()\n",
        "plt.show()"
      ],
      "metadata": {
        "colab": {
          "base_uri": "https://localhost:8080/",
          "height": 729
        },
        "id": "Rgw_qf_FTBAo",
        "outputId": "9a3a6fb8-7ab3-469e-ee76-9785cf5fa1e4"
      },
      "execution_count": 15,
      "outputs": [
        {
          "output_type": "display_data",
          "data": {
            "image/png": "[encoded data removed]",
            "text/plain": [
              "<Figure size 720x720 with 25 Axes>"
            ]
          },
          "metadata": {}
        }
      ]
    }
  ]
}